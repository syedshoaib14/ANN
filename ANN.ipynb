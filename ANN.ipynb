{
  "nbformat": 4,
  "nbformat_minor": 0,
  "metadata": {
    "colab": {
      "private_outputs": true,
      "provenance": []
    },
    "kernelspec": {
      "name": "python3",
      "display_name": "Python 3"
    },
    "language_info": {
      "name": "python"
    }
  },
  "cells": [
    {
      "cell_type": "code",
      "execution_count": null,
      "metadata": {
        "id": "FCKleQupabdw"
      },
      "outputs": [],
      "source": [
        "#Use our ANN model to predict if the customer with the following informations will leave the bank:\n",
        "# IMPORT THE LIBRARYS\n",
        "import numpy as np\n",
        "import pandas as pd\n",
        "import tensorflow as tf"
      ]
    },
    {
      "cell_type": "code",
      "source": [
        "tf.__version__"
      ],
      "metadata": {
        "id": "dO6-sbFXbYGH"
      },
      "execution_count": null,
      "outputs": []
    },
    {
      "cell_type": "code",
      "source": [
        " #importing the dataset\n",
        "dataset=pd.read_csv('/content/Churn_Modelling.csv')\n",
        "x = dataset.iloc[:,3:-1].values\n",
        "y = dataset.iloc[:,-1].values"
      ],
      "metadata": {
        "id": "htJC8dgzbcWm"
      },
      "execution_count": null,
      "outputs": []
    },
    {
      "cell_type": "code",
      "source": [
        "print(x)"
      ],
      "metadata": {
        "id": "ZV3JxqLqfCuq"
      },
      "execution_count": null,
      "outputs": []
    },
    {
      "cell_type": "code",
      "source": [
        "#now labe encode the gender column\n",
        "from sklearn.preprocessing import LabelEncoder\n",
        "le=LabelEncoder()\n",
        "x[:,2]= le.fit_transform (x[:,2])\n",
        "print(x)"
      ],
      "metadata": {
        "id": "FYM1vdtVfI9G"
      },
      "execution_count": null,
      "outputs": []
    },
    {
      "cell_type": "code",
      "source": [
        "#one hot encoding for \"geography\" column\n",
        "#one hot encoding means(Hot encoding is a technique used in machine learning and data processing to represent categorical variables as binary vectors)\n",
        "from sklearn.compose import ColumnTransformer\n",
        "from sklearn.preprocessing import OneHotEncoder\n",
        "ct =ColumnTransformer(transformers=[('encoder',OneHotEncoder(),[1])],  remainder='passthrough')\n",
        "x=np.array(ct.fit_transform(x))\n",
        "print(x)"
      ],
      "metadata": {
        "id": "DLhxqrccgSoO"
      },
      "execution_count": null,
      "outputs": []
    },
    {
      "cell_type": "code",
      "source": [
        "from numpy.lib.shape_base import split\n",
        "#split the dataset in training set and test set\n",
        "from sklearn.model_selection import train_test_split\n",
        "x_train,x_test, y_train, y_test= train_test_split(x,y, test_size=0.2,random_state=0)"
      ],
      "metadata": {
        "id": "qeoPZeyInyMr"
      },
      "execution_count": null,
      "outputs": []
    },
    {
      "cell_type": "code",
      "source": [
        "#feature scaling\n",
        "from sklearn.preprocessing import StandardScaler\n",
        "sc = StandardScaler()\n",
        "x_train = sc.fit_transform(x_train)\n",
        "x_test = sc.fit_transform(x_test)"
      ],
      "metadata": {
        "id": "1wZMu_jZqaP3"
      },
      "execution_count": null,
      "outputs": []
    },
    {
      "cell_type": "markdown",
      "source": [
        "BUILDING THE ANN\n"
      ],
      "metadata": {
        "id": "taUZBwZZMWGc"
      }
    },
    {
      "cell_type": "code",
      "source": [
        "#initalizing the ann\n",
        "ann = tf.keras.models.Sequential()"
      ],
      "metadata": {
        "id": "gRKCNMf8AGWI"
      },
      "execution_count": null,
      "outputs": []
    },
    {
      "cell_type": "code",
      "source": [
        "#adding the input layer and one hidden  layer\n",
        "ann.add(tf.keras.layers.Dense(units=6,activation='relu'))"
      ],
      "metadata": {
        "id": "M7PS5QMJM2QV"
      },
      "execution_count": null,
      "outputs": []
    },
    {
      "cell_type": "code",
      "source": [
        "#2nd hidden layer\n",
        "ann.add(tf.keras.layers.Dense(units=6,activation='relu'))"
      ],
      "metadata": {
        "id": "iZI0rDc5N7pb"
      },
      "execution_count": null,
      "outputs": []
    },
    {
      "cell_type": "code",
      "source": [
        "# adding the output\n",
        "ann.add(tf.keras.layers.Dense(units=1,activation='sigmoid'))"
      ],
      "metadata": {
        "id": "iWuoNvjWOwAQ"
      },
      "execution_count": null,
      "outputs": []
    },
    {
      "cell_type": "markdown",
      "source": [
        "training the ANN\n"
      ],
      "metadata": {
        "id": "3BJwmdzVPA7C"
      }
    },
    {
      "cell_type": "code",
      "source": [
        "#Compailing the Ann\n",
        "ann.compile(optimizer='adam', loss='binary_crossentropy' ,metrics=['accuracy'])"
      ],
      "metadata": {
        "id": "2fHWS_PyO4pQ"
      },
      "execution_count": null,
      "outputs": []
    },
    {
      "cell_type": "code",
      "source": [
        "#training the ANN on the training set\n",
        "ann.fit(x_train,y_train,batch_size=32,epochs=100 )"
      ],
      "metadata": {
        "id": "Vedw1LQhPxTj"
      },
      "execution_count": null,
      "outputs": []
    },
    {
      "cell_type": "code",
      "source": [
        "#Use our ANN model to predict if the customer with the following informations will leave the bank:\n",
        "#Geography: France\n",
        "#Credit Score: 600\n",
        "#Gender: Male\n",
        "#Age: 40 years old\n",
        "#Tenure: 3 years\n",
        "#Balance: $ 60000\n",
        "#Number of Products: 2\n",
        "#Does this customer have a credit card ? Yes\n",
        "#Is this customer an Active Member. Yes\n",
        "#So, should we say goodbye to that customer?"
      ],
      "metadata": {
        "id": "1jrLYZ4XZ5O1"
      },
      "execution_count": null,
      "outputs": []
    },
    {
      "cell_type": "code",
      "source": [
        "print(ann.predict(sc.transform([[1,0,0,600,1,40,3,6000,2,1,1,50000]]))>0.5)"
      ],
      "metadata": {
        "id": "FfDokzTBMj2L"
      },
      "execution_count": null,
      "outputs": []
    },
    {
      "cell_type": "markdown",
      "source": [
        "pedicting the test results by logistic regression\n"
      ],
      "metadata": {
        "id": "dcDFk-lqPIVz"
      }
    },
    {
      "cell_type": "code",
      "source": [
        "y_pred = ann.predict(x_test)\n",
        "y_pred = (y_pred > 0.5)\n",
        "print(np.concatenate((y_pred.reshape(len(y_pred),1),y_test.reshape(len(y_test),1)),1))"
      ],
      "metadata": {
        "id": "P1BMpH61NHuP"
      },
      "execution_count": null,
      "outputs": []
    },
    {
      "cell_type": "markdown",
      "source": [
        "making the counfusion **matrix**"
      ],
      "metadata": {
        "id": "mdWQIn4TQ5lm"
      }
    },
    {
      "cell_type": "code",
      "source": [
        "from sklearn.metrics import confusion_matrix, accuracy_score\n",
        "cm=confusion_matrix(y_test,y_pred)\n",
        "print(cm)\n",
        "accuracy_score(y_test,y_pred)\n"
      ],
      "metadata": {
        "id": "5cgREW8sQcfB"
      },
      "execution_count": null,
      "outputs": []
    },
    {
      "cell_type": "code",
      "source": [],
      "metadata": {
        "id": "ttirfffGRc-M"
      },
      "execution_count": null,
      "outputs": []
    }
  ]
}